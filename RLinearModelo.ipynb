{
  "nbformat": 4,
  "nbformat_minor": 0,
  "metadata": {
    "colab": {
      "name": "Cópia de RegressãoLinear_Modelo_Padrão",
      "provenance": [],
      "collapsed_sections": []
    },
    "kernelspec": {
      "name": "python3",
      "display_name": "Python 3"
    },
    "language_info": {
      "name": "python"
    }
  },
  "cells": [
    {
      "cell_type": "markdown",
      "metadata": {
        "id": "QzQF-aFQFFuQ"
      },
      "source": [
        "##**Machine Learning**\n",
        "###Aprendizado Supervisionado\n",
        "####*Regressão Linear*\n",
        "#####***Modelo Adaptado por:Alexandre Menezes Ferreira***\n",
        "#####Fonte Original:\n",
        "######Crash Course IA - Aula 2 - Regressão Linear\n",
        "######https://youtu.be/Ze-Q6ZNWpco\n",
        "---\n",
        "---"
      ]
    },
    {
      "cell_type": "markdown",
      "metadata": {
        "id": "x8YYdImXGPJB"
      },
      "source": [
        ""
      ]
    },
    {
      "cell_type": "code",
      "metadata": {
        "id": "g--r1f4rw9Za"
      },
      "source": [
        "#Iniciando um modelo Aprendizado Supervisionado(Regressão Linear)\n",
        "from matplotlib import pyplot as plt# importa a bibliateca matplotlib\n",
        "import pandas as pd# importa a biblioteca pandas\n",
        "import pylab as pl#O Pylab é um módulo da linguagem Python que permite gerar gráficos de duas dimensões de excelente qualidade, permitindo edição interativa, animações\n",
        "import numpy as np#Biblioteca Estatística\n",
        "from sklearn import linear_model# importa o modelo de regressão linear\n",
        "from sklearn.metrics import r2_score, mean_squared_error, mean_absolute_error# importa as métricas\n",
        "from sklearn.model_selection import train_test_split# importa o modelo para separar os dados em treino e teste\n",
        "from math import sqrt# importa a biblioteca math para raiz quadrada"
      ],
      "execution_count": null,
      "outputs": []
    },
    {
      "cell_type": "markdown",
      "metadata": {
        "id": "9mmwo1fsBY9j"
      },
      "source": [
        "#Carregamento dos dados\n",
        "######Anotações:\n",
        "######*Caso queira fazer download do dataset de um link na internet utilize o wget*\n",
        "######Download do Dataset\n",
        "######**Para instalar o wget:**\n",
        "\n",
        "* !pip3 install wget\n",
        "\n",
        "######**Para importar o DataSet com o wget:**\n",
        "\n",
        "* !wget url\n",
        "\n",
        "*url é o link para dowload*"
      ]
    },
    {
      "cell_type": "code",
      "metadata": {
        "id": "5JZ8TP3ix1_Z"
      },
      "source": [
        "#Carregar o dataset para um Dataframe (Pandas)\n",
        "#url = 'link para o DataSet'\n",
        "#Embora o formata esteja informado como \".csv\", poderá ser alterado para um formato compatível com o pandas\n",
        "data = pd.read_csv(url)\n",
        "##############################################################\n",
        "#### Selecionar apenas as features que deseja aplicar o método\n",
        "#observação os dados tem que estar entre dois colchetes data[['coluna']] caso contrario apresentará erro de carregamento\n",
        "X = data[['soma']]\n",
        "y = np.mean(data[['variacao']])\n",
        "##############################################################"
      ],
      "execution_count": null,
      "outputs": []
    },
    {
      "cell_type": "code",
      "metadata": {
        "id": "dGhsry_Z0xSk"
      },
      "source": [
        "#Dividir o dataset em dados de treinamento e dados de teste\n",
        "#test_size = float que determina o percentual de dados que serão utilizados para treinar o modelo\n",
        "#randon_state= int refere-se ao percentual aleatório que será aplicado\n",
        "X_treino, x_test, y_treino, y_teste = train_test_split(X, y, test_size=0.4, random_state=42)\n",
        "print(type(X_treino))\n",
        "# y_teste"
      ],
      "execution_count": null,
      "outputs": []
    },
    {
      "cell_type": "code",
      "metadata": {
        "id": "V_JVTvZw385e"
      },
      "source": [
        "#Plotar a correlação entre as features do dataset de treinamento\n",
        "plt.scatter(X_treino, y_treino, color='blue')\n",
        "plt.xlabel(\"X_treino\", color='C0')\n",
        "plt.ylabel(\"y_treino\", color='C0')\n",
        "# plt.show()"
      ],
      "execution_count": null,
      "outputs": []
    },
    {
      "cell_type": "code",
      "metadata": {
        "id": "bHmIuX2f4aea"
      },
      "source": [
        "#Treinar o modelo de regressão linear\n",
        "# CRIA MODELO DO TIPO REGRESSÃO LINEAR\n",
        "modelo =  linear_model.LinearRegression()\n",
        "\n",
        "# TREINA MODELO USANDO O DATASET DE TESTE PARA ENCONTRAR OS SEGUINTES VALORES:\n",
        "# INTERCEPTO(a) QUE REPRESENTA O PONTO \"Y\" QUANDO \"X\" É IGUAL A ZERO\n",
        "# SLOPE(b) QUE REPRESENTA A INCLINAÇÃO DA RETA. SE \"B\" É POSITIVO A RETA É ASCENDENTE; SE \"B\" FOR \n",
        "# NEGATIVO A RETA SERÁ DESCENDENTE. FORMULA (Y = A + B.X)\n",
        "modelo.fit(X_treino, y_treino)\n",
        "\n",
        "#Exibi os coeficientes (A e B)\n",
        "print('(A) Intercepto: ', modelo.intercept_)\n",
        "print('(B) Inclinação OU Slop: ', modelo.coef_)"
      ],
      "execution_count": null,
      "outputs": []
    },
    {
      "cell_type": "code",
      "metadata": {
        "id": "1TMo3vx5AKeS"
      },
      "source": [
        "#REPRESENTA A RETA DE REGRESSÃO NO DATASET DE TREINO\n",
        "plt.scatter(X_treino, y_treino, color='blue')\n",
        "plt.plot(X_treino, modelo.coef_[0][0]*X_treino + modelo.intercept_[0], '-r')\n",
        "plt.ylabel(\"y\")\n",
        "plt.xlabel(\"X\")\n",
        "plt.show()"
      ],
      "execution_count": null,
      "outputs": []
    },
    {
      "cell_type": "code",
      "metadata": {
        "id": "v90cPCl1AYXL"
      },
      "source": [
        "#EXECUTA MODELO NO DATASET DE TESTES\n",
        "#REALIZA PREDIÇÕES USANDO O MODELO E A BASE DE TESTES\n",
        "predicao = modelo.predict(x_test)"
      ],
      "execution_count": null,
      "outputs": []
    },
    {
      "cell_type": "code",
      "metadata": {
        "id": "w4XPqWf1BVVs"
      },
      "source": [
        "#EXIBI A RETA DE REGRESSÃO NO DATASET DE TESTE\n",
        "plt.scatter(x_test, y_teste, color='blue')\n",
        "plt.plot(x_test, modelo.coef_[0][0]*x_test + modelo.intercept_[0], '-r')# \"-r\" é a cor vermelha\n",
        "plt.ylabel(\"y\")\n",
        "plt.xlabel(\"X\")\n",
        "plt.show()"
      ],
      "execution_count": null,
      "outputs": []
    },
    {
      "cell_type": "code",
      "metadata": {
        "id": "Oq46BRwswwph"
      },
      "source": [
        "#AVALIAÇÃO DO MODELO PREDITIVO\n",
        "#Agora é mostrar as métricas\n",
        "print(f'Soma dos Erros ao Quadrado (SSE):{np.sum((predicao - y_teste)**2)}')\n",
        "print(f'Erro Quadrático Médio (MSE): {mean_squared_error(y_teste, predicao)}')\n",
        "print(f'Erro Médio Absoluto (MAE): {mean_absolute_error(y_teste, predicao)}')\n",
        "print (f'Raiz do Erro Quadrático Médio (RMSE): {sqrt(mean_squared_error(y_teste, predicao))}')\n",
        "print(f'R2-score: {r2_score(predicao , y_teste)}')"
      ],
      "execution_count": null,
      "outputs": []
    }
  ]
}
